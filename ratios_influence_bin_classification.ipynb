{
  "nbformat": 4,
  "nbformat_minor": 0,
  "metadata": {
    "colab": {
      "name": "ratios_influence_bin_classification.ipynb",
      "provenance": [],
      "collapsed_sections": []
    },
    "kernelspec": {
      "name": "python3",
      "display_name": "Python 3"
    }
  },
  "cells": [
    {
      "cell_type": "code",
      "metadata": {
        "id": "l5FSnQcb7B_H",
        "colab_type": "code",
        "colab": {}
      },
      "source": [
        "import numpy as np\n",
        "import pandas as pd\n",
        "\n",
        "import matplotlib.pyplot as plt\n",
        "\n",
        "from sklearn import datasets\n",
        "from scipy.stats import linregress\n",
        "\n",
        "from sklearn.ensemble import GradientBoostingClassifier\n",
        "from sklearn.model_selection import train_test_split, KFold\n",
        "from sklearn.metrics import recall_score"
      ],
      "execution_count": 0,
      "outputs": []
    },
    {
      "cell_type": "markdown",
      "metadata": {
        "id": "7QRoi8dp_1bj",
        "colab_type": "text"
      },
      "source": [
        "In this notebook, I try to research how the ratio between two classes impact on a binary classification problem."
      ]
    },
    {
      "cell_type": "code",
      "metadata": {
        "id": "5olsUabi8ASo",
        "colab_type": "code",
        "colab": {}
      },
      "source": [
        "features = datasets.load_breast_cancer().data\n",
        "target = datasets.load_breast_cancer().target\n",
        "df = pd.DataFrame(data= features, columns =\n",
        "                  datasets.load_breast_cancer().feature_names)\n",
        "df = df.join( pd.DataFrame(data= target))\n",
        "df = df.rename({0:'is_cancer'}, axis='columns')"
      ],
      "execution_count": 0,
      "outputs": []
    },
    {
      "cell_type": "markdown",
      "metadata": {
        "id": "mKTRWr4RuEBN",
        "colab_type": "text"
      },
      "source": [
        "As a sample, I used a well-known Breast Cancer Wisconsin (Diagnostic) Data Set."
      ]
    },
    {
      "cell_type": "code",
      "metadata": {
        "id": "NBhWaTsc8IEj",
        "colab_type": "code",
        "outputId": "1b915bf4-ef7c-4400-9c64-8dc03e59e434",
        "colab": {
          "base_uri": "https://localhost:8080/",
          "height": 68
        }
      },
      "source": [
        "df.is_cancer.value_counts()"
      ],
      "execution_count": 3,
      "outputs": [
        {
          "output_type": "execute_result",
          "data": {
            "text/plain": [
              "1    357\n",
              "0    212\n",
              "Name: is_cancer, dtype: int64"
            ]
          },
          "metadata": {
            "tags": []
          },
          "execution_count": 3
        }
      ]
    },
    {
      "cell_type": "code",
      "metadata": {
        "id": "FDDPqDGf8lqs",
        "colab_type": "code",
        "colab": {}
      },
      "source": [
        "samplesInGroup = 1\n",
        "zeroSamples = 212"
      ],
      "execution_count": 0,
      "outputs": []
    },
    {
      "cell_type": "markdown",
      "metadata": {
        "id": "gf6jhkibufb-",
        "colab_type": "text"
      },
      "source": [
        "I will increase the number of samples class 1  (minority class) and calculate the GradientBoostingClassifiers recall score using 3 methods (binary, micro and macro) and validate it in 10 folds."
      ]
    },
    {
      "cell_type": "code",
      "metadata": {
        "id": "0wS7dA3Z-hG3",
        "colab_type": "code",
        "colab": {}
      },
      "source": [
        "result = pd.DataFrame(columns = {'samples',\n",
        "                                 'avg_micro_recall','avg_bin_recall',\n",
        "                                 'avg_macro_recall'})\n",
        "\n",
        "for samplesInGroup in range(2, 213):\n",
        " \n",
        "  test_data = df[df.is_cancer == 0].sample(212)\n",
        "  test_data.index = range(0, len(test_data.index))\n",
        "\n",
        "  test_data = test_data.append(df[df.is_cancer == 1].sample(samplesInGroup))\n",
        "  test_data.index = range(0, len(test_data.index))\n",
        "\n",
        "  X = test_data.drop(['is_cancer'], axis=1)\n",
        "  y = test_data.is_cancer\n",
        "\n",
        "  gbr = GradientBoostingClassifier()\n",
        "\n",
        "  if samplesInGroup < 10:\n",
        "    kf = KFold(n_splits = 2, shuffle=True)\n",
        "  else:\n",
        "    kf = KFold(n_splits = 10, shuffle=True)\n",
        "\n",
        "  kf.get_n_splits(X=X, y=y)\n",
        "\n",
        "  bin_recall_mean = []\n",
        "  mic_recall_mean = []\n",
        "  mac_recall_mean = []\n",
        "\n",
        "  for train_index, test_index in kf.split(X):\n",
        "      X_train, X_test = X.transpose()[train_index].transpose(),X.transpose()[test_index].transpose()\n",
        "\n",
        "      y_train, y_test = y[train_index], y[test_index]\n",
        "\n",
        "      gbr_fitted_model = gbr.fit(X_train, y_train)\n",
        "      \n",
        "\n",
        "\n",
        "      bin_recall_mean.append(recall_score(y_test,\n",
        "                                          gbr_fitted_model.predict(X_test),\n",
        "                                          average='binary', zero_division=0))\n",
        "      mic_recall_mean.append(recall_score(y_test,\n",
        "                                          gbr_fitted_model.predict(X_test),\n",
        "                                          average='micro', zero_division=0))\n",
        "      mac_recall_mean.append(recall_score(y_test,\n",
        "                                          gbr_fitted_model.predict(X_test),\n",
        "                                          average='macro', zero_division=0))\n",
        "      \n",
        "\n",
        "  bin_recall_mean = [float(x) for x in bin_recall_mean]\n",
        "  mic_recall_mean = [float(x) for x in mic_recall_mean]\n",
        "  mac_recall_mean = [float(x) for x in mac_recall_mean]\n",
        "\n",
        "  result = result.append({'avg_bin_recall':np.mean(bin_recall_mean), \n",
        "                          'avg_micro_recall':np.mean(mic_recall_mean),\n",
        "                          'avg_macro_recall':np.mean(mac_recall_mean), \n",
        "                          'samples':samplesInGroup}, ignore_index=True)"
      ],
      "execution_count": 0,
      "outputs": []
    },
    {
      "cell_type": "code",
      "metadata": {
        "id": "7_nq7OKLjv5D",
        "colab_type": "code",
        "outputId": "86a4eec4-814a-41de-aaf7-b77359b08d92",
        "colab": {
          "base_uri": "https://localhost:8080/",
          "height": 430
        }
      },
      "source": [
        "plt.figure(figsize = (12,7))\n",
        "result.avg_bin_recall.rolling(10).mean().plot(color='#333333',\n",
        "                                                   linestyle='-', linewidth=1.6)\n",
        "result.avg_macro_recall.rolling(10).mean().plot(color='#555555',\n",
        "                                                linestyle='-.', linewidth=1)\n",
        "result.avg_micro_recall.rolling(10).mean().plot(color='#111111',\n",
        "                                                     linestyle='-', linewidth=0.7)\n",
        "plt.legend(['bin_recall','macro_recall', 'micro_recall'], loc=4)\n",
        "plt.grid(color='#c1c1c1', linestyle='-', linewidth=0.5)\n",
        "plt.show()"
      ],
      "execution_count": 6,
      "outputs": [
        {
          "output_type": "display_data",
          "data": {
            "image/png": "[encoded data removed]",
            "text/plain": [
              "<Figure size 864x504 with 1 Axes>"
            ]
          },
          "metadata": {
            "tags": [],
            "needs_background": "light"
          }
        }
      ]
    },
    {
      "cell_type": "code",
      "metadata": {
        "id": "-5d9xiwZFS2D",
        "colab_type": "code",
        "colab": {
          "base_uri": "https://localhost:8080/",
          "height": 119
        },
        "outputId": "d4c62bee-1a4b-4d3a-b6df-30d79807e9f6"
      },
      "source": [
        "print('First range:\\n', linregress(result.index[2:45], \n",
        "                                 result.avg_bin_recall[2:45]).slope)\n",
        "print('Second range:\\n', linregress(result.index[45:140], \n",
        "                                 result.avg_bin_recall[45:140]).slope)\n",
        "print('Third range:\\n', linregress(result.index[140:],\n",
        "                                 result.avg_bin_recall[140:]).slope)"
      ],
      "execution_count": 7,
      "outputs": [
        {
          "output_type": "stream",
          "text": [
            "First range:\n",
            " 0.013636974874516398\n",
            "Second range:\n",
            " 0.0008574255142085559\n",
            "Third range:\n",
            " 0.000357039103526396\n"
          ],
          "name": "stdout"
        }
      ]
    },
    {
      "cell_type": "code",
      "metadata": {
        "id": "MkR_Fmbcr5_T",
        "colab_type": "code",
        "colab": {}
      },
      "source": [
        ""
      ],
      "execution_count": 0,
      "outputs": []
    }
  ]
}